{
 "cells": [
  {
   "cell_type": "markdown",
   "metadata": {
    "pycharm": {
     "name": "#%% md\n"
    }
   },
   "source": [
    "# Задание\n",
    "* Собрать информацию о всех строящихся объектах на сайте \"наш.дом.рф\"\n",
    "* Cохранить ее в pandas dataframe\n",
    "* Cохранить pandas dataframe в excel\n",
    "* Cохранить pandas dataframe в pickle\n",
    "* Cохранить pandas dataframe в БД\n",
    "\n",
    "# Задание *\n",
    "* Написать скрипт, который скачивает фотографии всех строящихся объектов с сайта \"наш.дом.рф\"\n"
   ]
  },
  {
   "cell_type": "code",
   "execution_count": 8,
   "metadata": {
    "pycharm": {
     "name": "#%%\n"
    }
   },
   "outputs": [],
   "source": [
    "import requests"
   ]
  },
  {
   "cell_type": "code",
   "execution_count": null,
   "outputs": [],
   "source": [
    "offset_ = 0\n",
    "limit_ = 1000\n",
    "# limit_ = 10\n",
    "params = {'offset': offset_, 'limit': limit_, 'objStatus': 0 }\n",
    "url = f'https://xn--80az8a.xn--d1aqf.xn--p1ai/%D1%81%D0%B5%D1%80%D0%B2%D0%B8%D1%81%D1%8B/api/kn/object'\n",
    "totalList = []\n",
    "isContinue = True\n",
    "while isContinue:\n",
    "    res = requests.get(url, params)\n",
    "    objects_data = res.json()\n",
    "    params['offset'] += limit_\n",
    "    objects_list = objects_data.get('data').get('list')\n",
    "    objids = [x.get('objId') for x in objects_list]\n",
    "    isContinue = len(objects_list) != 0\n",
    "    totalList += objids"
   ],
   "metadata": {
    "collapsed": false,
    "pycharm": {
     "name": "#%%\n"
    }
   }
  },
  {
   "cell_type": "code",
   "metadata": {
    "pycharm": {
     "name": "#%%\n"
    }
   },
   "source": [
    "# totalList = totalList[:5]\n"
   ],
   "execution_count": 61,
   "outputs": [
    {
     "data": {
      "text/plain": "[173, 851, 1259, 1284, 1285]"
     },
     "execution_count": 61,
     "metadata": {},
     "output_type": "execute_result"
    }
   ]
  },
  {
   "cell_type": "code",
   "execution_count": 43,
   "metadata": {
    "pycharm": {
     "name": "#%%\n"
    }
   },
   "outputs": [],
   "source": [
    "totalDetailedList = []\n",
    "for item in totalList:\n",
    "    res = requests.get(f'https://xn--80az8a.xn--d1aqf.xn--p1ai/%D1%81%D0%B5%D1%80%D0%B2%D0%B8%D1%81%D1%8B/api/object/{item}')\n",
    "    detailedData = res.json()\n",
    "    totalDetailedList.append(detailedData.get('data'))"
   ]
  },
  {
   "cell_type": "code",
   "execution_count": 65,
   "metadata": {
    "pycharm": {
     "name": "#%%\n"
    }
   },
   "outputs": [],
   "source": [
    "import pandas as pd\n",
    "\n",
    "# todo cycle\n",
    "df = pd.json_normalize(totalDetailedList)"
   ]
  },
  {
   "cell_type": "markdown",
   "source": [
    "## Данные по первым 5 объектам"
   ],
   "metadata": {
    "collapsed": false,
    "pycharm": {
     "name": "#%% md\n"
    }
   }
  },
  {
   "cell_type": "code",
   "execution_count": 66,
   "outputs": [
    {
     "data": {
      "text/plain": "     id  pdId  region                                            address  \\\n0   173   566      63             г Тольятти, бульвар Итальянский, д. 25   \n1   851  1092      77                                      д Десна, д. 6   \n2  1259  1320      62                     г Рязань, улица Бугровка, д. 0   \n3  1284  1527      77  г Москва, район внутригородское муниципальное ...   \n4  1285  1528      77  г Москва, район Внутригородское муниципальное ...   \n\n                                             nameObj  floorMin  floorMax  \\\n0                                 ЖК «Южный бульвар»        11        11   \n1             ЖК \"Андерсен\" дом строительный номер 6         7         8   \n2                           \"СМАРТ дом на Новоселов\"        27        27   \n3  Жилой Комплекс \"Мир Митино\" (сокращенное наиме...        27        27   \n4  Жилой Комплекс \"Мир Митино\" (сокращенное наиме...        25        25   \n\n   objElemLivingCnt objReady100PercDt wallMaterialShortDesc  ...  \\\n0               126        2022-06-30                Кирпич  ...   \n1               143        2022-06-30                Панель  ...   \n2               440        2023-12-31        Монолит-кирпич  ...   \n3              1115        2024-12-31                 Блоки  ...   \n4               690        2022-06-30                Другое  ...   \n\n  transportDistIndexValue greenAreaIndexValue  airQualityIndexValue  metro.id  \\\n0                     NaN                 NaN                   NaN       NaN   \n1                     1.0                 1.0                   9.0       NaN   \n2                     NaN                 NaN                   NaN       NaN   \n3                     2.0                 6.0                   6.0     3.463   \n4                     3.0                 6.0                   6.0     3.463   \n\n        metro.name           metro.line metro.color metro.time metro.isWalk  \\\n0              NaN                  NaN         NaN        NaN          NaN   \n1              NaN                  NaN         NaN        NaN          NaN   \n2              NaN                  NaN         NaN        NaN          NaN   \n3  Пятницкое шоссе  Арбатско-Покровская     #0072BA  20.266667        False   \n4  Пятницкое шоссе  Арбатско-Покровская     #0072BA  21.633333        False   \n\n   metro.colors  \n0           NaN  \n1           NaN  \n2           NaN  \n3     [#0072BA]  \n4     [#0072BA]  \n\n[5 rows x 104 columns]",
      "text/html": "<div>\n<style scoped>\n    .dataframe tbody tr th:only-of-type {\n        vertical-align: middle;\n    }\n\n    .dataframe tbody tr th {\n        vertical-align: top;\n    }\n\n    .dataframe thead th {\n        text-align: right;\n    }\n</style>\n<table border=\"1\" class=\"dataframe\">\n  <thead>\n    <tr style=\"text-align: right;\">\n      <th></th>\n      <th>id</th>\n      <th>pdId</th>\n      <th>region</th>\n      <th>address</th>\n      <th>nameObj</th>\n      <th>floorMin</th>\n      <th>floorMax</th>\n      <th>objElemLivingCnt</th>\n      <th>objReady100PercDt</th>\n      <th>wallMaterialShortDesc</th>\n      <th>...</th>\n      <th>transportDistIndexValue</th>\n      <th>greenAreaIndexValue</th>\n      <th>airQualityIndexValue</th>\n      <th>metro.id</th>\n      <th>metro.name</th>\n      <th>metro.line</th>\n      <th>metro.color</th>\n      <th>metro.time</th>\n      <th>metro.isWalk</th>\n      <th>metro.colors</th>\n    </tr>\n  </thead>\n  <tbody>\n    <tr>\n      <th>0</th>\n      <td>173</td>\n      <td>566</td>\n      <td>63</td>\n      <td>г Тольятти, бульвар Итальянский, д. 25</td>\n      <td>ЖК «Южный бульвар»</td>\n      <td>11</td>\n      <td>11</td>\n      <td>126</td>\n      <td>2022-06-30</td>\n      <td>Кирпич</td>\n      <td>...</td>\n      <td>NaN</td>\n      <td>NaN</td>\n      <td>NaN</td>\n      <td>NaN</td>\n      <td>NaN</td>\n      <td>NaN</td>\n      <td>NaN</td>\n      <td>NaN</td>\n      <td>NaN</td>\n      <td>NaN</td>\n    </tr>\n    <tr>\n      <th>1</th>\n      <td>851</td>\n      <td>1092</td>\n      <td>77</td>\n      <td>д Десна, д. 6</td>\n      <td>ЖК \"Андерсен\" дом строительный номер 6</td>\n      <td>7</td>\n      <td>8</td>\n      <td>143</td>\n      <td>2022-06-30</td>\n      <td>Панель</td>\n      <td>...</td>\n      <td>1.0</td>\n      <td>1.0</td>\n      <td>9.0</td>\n      <td>NaN</td>\n      <td>NaN</td>\n      <td>NaN</td>\n      <td>NaN</td>\n      <td>NaN</td>\n      <td>NaN</td>\n      <td>NaN</td>\n    </tr>\n    <tr>\n      <th>2</th>\n      <td>1259</td>\n      <td>1320</td>\n      <td>62</td>\n      <td>г Рязань, улица Бугровка, д. 0</td>\n      <td>\"СМАРТ дом на Новоселов\"</td>\n      <td>27</td>\n      <td>27</td>\n      <td>440</td>\n      <td>2023-12-31</td>\n      <td>Монолит-кирпич</td>\n      <td>...</td>\n      <td>NaN</td>\n      <td>NaN</td>\n      <td>NaN</td>\n      <td>NaN</td>\n      <td>NaN</td>\n      <td>NaN</td>\n      <td>NaN</td>\n      <td>NaN</td>\n      <td>NaN</td>\n      <td>NaN</td>\n    </tr>\n    <tr>\n      <th>3</th>\n      <td>1284</td>\n      <td>1527</td>\n      <td>77</td>\n      <td>г Москва, район внутригородское муниципальное ...</td>\n      <td>Жилой Комплекс \"Мир Митино\" (сокращенное наиме...</td>\n      <td>27</td>\n      <td>27</td>\n      <td>1115</td>\n      <td>2024-12-31</td>\n      <td>Блоки</td>\n      <td>...</td>\n      <td>2.0</td>\n      <td>6.0</td>\n      <td>6.0</td>\n      <td>3.463</td>\n      <td>Пятницкое шоссе</td>\n      <td>Арбатско-Покровская</td>\n      <td>#0072BA</td>\n      <td>20.266667</td>\n      <td>False</td>\n      <td>[#0072BA]</td>\n    </tr>\n    <tr>\n      <th>4</th>\n      <td>1285</td>\n      <td>1528</td>\n      <td>77</td>\n      <td>г Москва, район Внутригородское муниципальное ...</td>\n      <td>Жилой Комплекс \"Мир Митино\" (сокращенное наиме...</td>\n      <td>25</td>\n      <td>25</td>\n      <td>690</td>\n      <td>2022-06-30</td>\n      <td>Другое</td>\n      <td>...</td>\n      <td>3.0</td>\n      <td>6.0</td>\n      <td>6.0</td>\n      <td>3.463</td>\n      <td>Пятницкое шоссе</td>\n      <td>Арбатско-Покровская</td>\n      <td>#0072BA</td>\n      <td>21.633333</td>\n      <td>False</td>\n      <td>[#0072BA]</td>\n    </tr>\n  </tbody>\n</table>\n<p>5 rows × 104 columns</p>\n</div>"
     },
     "execution_count": 66,
     "metadata": {},
     "output_type": "execute_result"
    }
   ],
   "source": [
    "df.head()"
   ],
   "metadata": {
    "collapsed": false,
    "pycharm": {
     "name": "#%%\n"
    }
   }
  },
  {
   "cell_type": "code",
   "execution_count": null,
   "outputs": [],
   "source": [
    "## Save into files\n",
    "\n",
    "df.to_excel('domrf.xlsx', index=False)\n",
    "df.to_pickle(\"domrf.pkl\")"
   ],
   "metadata": {
    "collapsed": false,
    "pycharm": {
     "name": "#%%\n"
    }
   }
  },
  {
   "cell_type": "markdown",
   "metadata": {
    "pycharm": {
     "name": "#%% md\n"
    }
   },
   "source": [
    "## Create and save to Database"
   ]
  },
  {
   "cell_type": "code",
   "source": [
    "from sqlalchemy import create_engine\n",
    "\n",
    "engine = create_engine('sqlite://', echo=False)\n",
    "df = df.applymap(str)\n",
    "df.to_sql('houses', con=engine, if_exists='replace')\n"
   ],
   "metadata": {
    "collapsed": false,
    "pycharm": {
     "name": "#%%\n"
    }
   },
   "execution_count": 67,
   "outputs": [
    {
     "data": {
      "text/plain": "5"
     },
     "execution_count": 67,
     "metadata": {},
     "output_type": "execute_result"
    }
   ]
  }
 ],
 "metadata": {
  "kernelspec": {
   "display_name": "Python 3",
   "language": "python",
   "name": "python3"
  },
  "language_info": {
   "codemirror_mode": {
    "name": "ipython",
    "version": 3
   },
   "file_extension": ".py",
   "mimetype": "text/x-python",
   "name": "python",
   "nbconvert_exporter": "python",
   "pygments_lexer": "ipython3",
   "version": "3.9.5"
  }
 },
 "nbformat": 4,
 "nbformat_minor": 1
}